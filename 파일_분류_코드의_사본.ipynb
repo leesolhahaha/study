{
  "nbformat": 4,
  "nbformat_minor": 0,
  "metadata": {
    "colab": {
      "provenance": [],
      "include_colab_link": true
    },
    "kernelspec": {
      "name": "python3",
      "display_name": "Python 3"
    },
    "language_info": {
      "name": "python"
    }
  },
  "cells": [
    {
      "cell_type": "markdown",
      "metadata": {
        "id": "view-in-github",
        "colab_type": "text"
      },
      "source": [
        "<a href=\"https://colab.research.google.com/github/leesolhahaha/study/blob/main/%ED%8C%8C%EC%9D%BC_%EB%B6%84%EB%A5%98_%EC%BD%94%EB%93%9C%EC%9D%98_%EC%82%AC%EB%B3%B8.ipynb\" target=\"_parent\"><img src=\"https://colab.research.google.com/assets/colab-badge.svg\" alt=\"Open In Colab\"/></a>"
      ]
    },
    {
      "cell_type": "code",
      "execution_count": null,
      "metadata": {
        "id": "NB94NWOwjgBb"
      },
      "outputs": [],
      "source": [
        "import os\n",
        "import random\n",
        "import shutil\n",
        "\n",
        "def split_data(directory_path, train_ratio=0.8, validation_ratio=0.1, test_ratio=0.1):\n",
        "    file_list = os.listdir(directory_path)\n",
        "    random.shuffle(file_list)\n",
        "\n",
        "    total_files = len(file_list)\n",
        "    train_size = int(total_files * train_ratio)\n",
        "    validation_size = int(total_files * validation_ratio)\n",
        "\n",
        "    train_files = file_list[:train_size]\n",
        "    validation_files = file_list[train_size:train_size + validation_size]\n",
        "    test_files = file_list[train_size + validation_size:]\n",
        "\n",
        "    train_dir = os.path.join(directory_path, 'train')\n",
        "    validation_dir = os.path.join(directory_path, 'validation')\n",
        "    test_dir = os.path.join(directory_path, 'test')\n",
        "\n",
        "    os.makedirs(train_dir, exist_ok=True)\n",
        "    os.makedirs(validation_dir, exist_ok=True)\n",
        "    os.makedirs(test_dir, exist_ok=True)\n",
        "\n",
        "    for file_name in train_files:\n",
        "        src_file = os.path.join(directory_path, file_name)\n",
        "        dst_file = os.path.join(train_dir, file_name)\n",
        "        shutil.copy(src_file, dst_file)\n",
        "\n",
        "    for file_name in validation_files:\n",
        "        src_file = os.path.join(directory_path, file_name)\n",
        "        dst_file = os.path.join(validation_dir, file_name)\n",
        "        shutil.copy(src_file, dst_file)\n",
        "\n",
        "    for file_name in test_files:\n",
        "        src_file = os.path.join(directory_path, file_name)\n",
        "        dst_file = os.path.join(test_dir, file_name)\n",
        "        shutil.copy(src_file, dst_file)\n",
        "\n",
        "    # Uncomment the following lines if you want to delete the original files after copying.\n",
        "    # for file_name in file_list:\n",
        "    #     file_path = os.path.join(directory_path, file_name)\n",
        "    #     os.remove(file_path)\n",
        "\n",
        "# Example usage:\n",
        "directory_path = '/content/drive/MyDrive/이브와/이브와ICT공모전/DATASET/audiofile/음향/'\n",
        "split_data(directory_path)"
      ]
    }
  ]
}